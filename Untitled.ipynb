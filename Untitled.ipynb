{
 "cells": [
  {
   "cell_type": "markdown",
   "metadata": {},
   "source": [
    "## Finita 2D"
   ]
  },
  {
   "cell_type": "code",
   "execution_count": 26,
   "metadata": {},
   "outputs": [],
   "source": [
    "import numpy as np\n",
    "import matplotlib.pyplot as plt\n",
    "import matplotlib.animation as animation"
   ]
  },
  {
   "cell_type": "code",
   "execution_count": 27,
   "metadata": {},
   "outputs": [],
   "source": [
    "deltaT = 1e-2\n",
    "deltaXY = 1e-1\n",
    "X = np.arange(0,0.5+deltaXY,deltaXY)\n",
    "Y = np.arange(0,0.5+deltaXY,deltaXY)\n",
    "t = np.arange(0,10+deltaT,deltaT)\n",
    "\n",
    "nodeMatrix = np.zeros(shape =(len(X), len(Y)))\n",
    "for i in range(len(nodeMatrix[0])):\n",
    "        nodeMatrix[0][i] = 100\n",
    "alpha = 0.25\n",
    "\n"
   ]
  },
  {
   "cell_type": "code",
   "execution_count": 28,
   "metadata": {},
   "outputs": [],
   "source": [
    "def helpDiff(anterior, atual, proximo):\n",
    "    return (proximo - 2*(atual) + anterior)/(deltaXY**2);\n",
    "\n",
    "def calcDiff2D(nodes):\n",
    "    nodes_t = np.zeros(shape =(len(nodes[0]), len(nodes)))\n",
    "        \n",
    "    nodes_t[0,:] = 100 \n",
    "    \n",
    "    for y in range(1,len(nodes)-1):\n",
    "        for x in range(1,len(nodes[0])-1):\n",
    "            nodes_t[y][x] = nodes[y][x] + deltaT*(alpha*(helpDiff(nodes[y][x-1], nodes[y][x], nodes[y][x+1]) \\\n",
    "            + helpDiff(nodes[y-1][x], nodes[y][x], nodes[y+1][x])))\n",
    "\n",
    "    for e in range(len(nodes_t)):\n",
    "            if(nodes_t[e] == 0 and nodes[e] == 0):\n",
    "                delta[e] = 0\n",
    "            else:\n",
    "                delta[e] = 2*(nodes_t[e]-nodes[e])/(np.abs(nodes_t[e]) + np.abs(nodes[e]))\n",
    "        if(np.abs(np.max(delta)) < tolerance):\n",
    "            return nodes_t\n",
    "    \n",
    "    return nodes_t"
   ]
  },
  {
   "cell_type": "code",
   "execution_count": 29,
   "metadata": {},
   "outputs": [
    {
     "data": {
      "image/png": "[encoded data removed]",
      "text/plain": [
       "<Figure size 432x288 with 1 Axes>"
      ]
     },
     "metadata": {
      "needs_background": "light"
     },
     "output_type": "display_data"
    }
   ],
   "source": [
    "for i in t:\n",
    "    nodeMatrix = calcDiff2D(nodeMatrix)\n",
    "\n",
    "    \n",
    "\n",
    "plt.imshow(nodeMatrix,cmap=\"hot\",interpolation=\"nearest\", vmin=0, vmax=101)\n",
    "plt.axis(\"off\")\n",
    "plt.savefig(\"archive\", dpi = 72)\n",
    "plt.show()"
   ]
  },
  {
   "cell_type": "code",
   "execution_count": null,
   "metadata": {},
   "outputs": [],
   "source": [
    "plt.savefig(\"archive\", dpi = 72)"
   ]
  },
  {
   "cell_type": "code",
   "execution_count": null,
   "metadata": {},
   "outputs": [],
   "source": [
    "nodeMatrix"
   ]
  },
  {
   "cell_type": "code",
   "execution_count": null,
   "metadata": {},
   "outputs": [],
   "source": [
    "for i in range(10-1):\n",
    "    print(i)"
   ]
  },
  {
   "cell_type": "code",
   "execution_count": null,
   "metadata": {},
   "outputs": [],
   "source": []
  }
 ],
 "metadata": {
  "kernelspec": {
   "display_name": "Python 3",
   "language": "python",
   "name": "python3"
  }
 },
 "nbformat": 4,
 "nbformat_minor": 2
}
