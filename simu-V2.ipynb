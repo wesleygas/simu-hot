{
 "cells": [
  {
   "cell_type": "markdown",
   "metadata": {},
   "source": [
    "## Finita 2D"
   ]
  },
  {
   "cell_type": "code",
   "execution_count": 4,
   "metadata": {},
   "outputs": [],
   "source": [
    "import numpy as np\n",
    "import matplotlib.pyplot as plt\n",
    "import matplotlib.animation as animation"
   ]
  },
  {
   "cell_type": "code",
   "execution_count": 19,
   "metadata": {},
   "outputs": [],
   "source": [
    "deltaT = 0.8\n",
    "deltaXY = 2e-2\n",
    "X = np.arange(0,0.4+deltaXY,deltaXY)\n",
    "Y = np.arange(0,0.4+deltaXY,deltaXY)\n",
    "t = np.arange(0,10+deltaT,deltaT)\n",
    "\n",
    "nodeMatrix = np.zeros(shape =(len(X), len(Y)))\n",
    "nodeMatrix[:,0] = 100\n",
    "nodeMatrix[:,-1] = 100\n",
    "nodeMatrix[0,:] = 0\n",
    "nodeMatrix[-1,:] = 30\n",
    "\n",
    "#                   E    C    D    B\n",
    "isolationMatrix = [False,True,False,False]\n",
    "\n",
    "k = 56\n",
    "ro = 7.85e3\n",
    "cp = 480\n",
    "alpha = k/(ro*cp) #k/rô*Cp\n",
    "tolerance = 1e-7\n",
    "F0 = alpha*(deltaT/(deltaXY**2))\n"
   ]
  },
  {
   "cell_type": "code",
   "execution_count": 20,
   "metadata": {},
   "outputs": [],
   "source": [
    "#Conta específica para o caso 2D\n",
    "def helpDiff(anterior, atual, proximo):\n",
    "    return (proximo - 2*(atual) + anterior)/(deltaXY**2);\n",
    "\n",
    "def helpDiff2(meio,cima, baixo, esquerda,direita, F0):\n",
    "    return F0*(cima+baixo+esquerda+direita) + (1-(4*F0))*meio\n",
    "\n",
    "#Aplica a conta específica na lista de nodes\n",
    "def calcDiff2D(nodes):\n",
    "    nodes_t = nodes.copy()\n",
    "    for y in range(1,len(nodes)-1):\n",
    "        for x in range(1,len(nodes[0])-1):\n",
    "            #nodes_t[y][x] = nodes[y][x] + deltaT*(alpha*(helpDiff(nodes[y][x-1], nodes[y][x], nodes[y][x+1]) \\\n",
    "            #+ helpDiff(nodes[y-1][x], nodes[y][x], nodes[y+1][x])))\n",
    "            if(isolationMatrix[0] and x==1):\n",
    "                nodes[y][x-1] = nodes[y][x+1]\n",
    "            if(isolationMatrix[2] and x==len(nodes[0])-2):\n",
    "                nodes[y][x+1] = nodes[y][x-1]\n",
    "            if(isolationMatrix[1] and y==1):\n",
    "                nodes[y-1][x] = nodes[y+1][x]\n",
    "            if(isolationMatrix[3] and y==len(nodes)-2):\n",
    "                nodes[y+1][x] = nodes[y-1][x]\n",
    "                \n",
    "        \n",
    "            \n",
    "            nodes_t[y][x] = helpDiff2(nodes[y][x],nodes[y-1][x],nodes[y+1][x],nodes[y][x-1], nodes[y][x+1],F0)\n",
    "            \n",
    "\n",
    "   \n",
    "    return nodes_t\n",
    "\n",
    "#\n",
    "# Nodes: Lista de nós a ser calculada ; k: Numero máximo de iterações para resolução\n",
    "# \n",
    "#\n",
    "def doSomething(nodes_ref,k, tolerance):\n",
    "    nodes_t = nodes_ref.copy()\n",
    "    delta = np.zeros(shape =(len(nodes_ref[0]), len(nodes_ref)))\n",
    "    for l in range(k):\n",
    "        nodes = nodes_t.copy()\n",
    "        nodes_t = calcDiff2D(nodes_t)\n",
    "        \n",
    "        if(l%15 == 0):\n",
    "            plt.imshow(nodes_t,cmap=\"hot\",interpolation=\"nearest\",vmin=0, vmax=150)\n",
    "            plt.axis(\"off\")\n",
    "            plt.colorbar()\n",
    "            plt.savefig(f\"./img/nodes{l}.png\", dpi = 72)\n",
    "            plt.close()\n",
    "            \n",
    "        \n",
    "        for i in range(1, len(nodes_t) -1):\n",
    "            for j in range(1, len(nodes_t[i]) -1):\n",
    "                if(not(nodes_t[i][j] == 0 and nodes[i][j] == 0)):\n",
    "                    delta[i][j] = 2*(nodes_t[i][j]-nodes[i][j])/(np.abs(nodes_t[i][j]) + np.abs(nodes[i][j]))\n",
    "                \n",
    "                if(np.abs(np.max(delta)) < tolerance):\n",
    "                    print(f\"Tolerancia atingida na iteração {l}!\")\n",
    "                    return nodes_t\n",
    "                \n",
    "        \n",
    "    print(f\"iterações insuficientes máximo delta: {np.abs(np.max(delta))}\")\n",
    "    return nodes_t\n"
   ]
  },
  {
   "cell_type": "code",
   "execution_count": 21,
   "metadata": {},
   "outputs": [
    {
     "name": "stdout",
     "output_type": "stream",
     "text": [
      "Tolerancia atingida na iteração 10214!\n"
     ]
    },
    {
     "data": {
      "image/png": "[encoded data removed]",
      "text/plain": [
       "<Figure size 432x288 with 1 Axes>"
      ]
     },
     "metadata": {
      "needs_background": "light"
     },
     "output_type": "display_data"
    },
    {
     "name": "stdout",
     "output_type": "stream",
     "text": [
      "CPU times: user 4min 17s, sys: 26.9 s, total: 4min 44s\n",
      "Wall time: 1min 53s\n"
     ]
    }
   ],
   "source": [
    "%%time\n",
    "nodeMatrix = doSomething(nodeMatrix,12000,tolerance)\n",
    "\n",
    "\n",
    "plt.imshow(nodeMatrix,cmap=\"hot\",interpolation=\"nearest\",vmin=0, vmax=150)\n",
    "plt.axis(\"off\")\n",
    "plt.savefig(\"archive\", dpi = 72)\n",
    "plt.show()\n"
   ]
  },
  {
   "cell_type": "code",
   "execution_count": 22,
   "metadata": {},
   "outputs": [
    {
     "data": {
      "text/plain": [
       "<Figure size 432x288 with 0 Axes>"
      ]
     },
     "metadata": {},
     "output_type": "display_data"
    }
   ],
   "source": [
    "plt.savefig(\"archive\", dpi = 72)"
   ]
  },
  {
   "cell_type": "code",
   "execution_count": 28,
   "metadata": {},
   "outputs": [
    {
     "data": {
      "image/png": "[encoded data removed]",
      "text/plain": [
       "<Figure size 432x288 with 2 Axes>"
      ]
     },
     "metadata": {
      "needs_background": "light"
     },
     "output_type": "display_data"
    }
   ],
   "source": [
    "# nodeMatrix\n",
    "copya = nodeMatrix.copy()\n",
    "nodeMatrix[8][10] = 0\n",
    "plt.imshow(nodeMatrix,cmap=\"hot\",interpolation=\"nearest\",vmin=0, vmax=150)\n",
    "plt.axis(\"off\")\n",
    "plt.colorbar()\n",
    "plt.savefig(\"archive\", dpi = 72)\n",
    "plt.show()\n"
   ]
  },
  {
   "cell_type": "code",
   "execution_count": 24,
   "metadata": {},
   "outputs": [
    {
     "data": {
      "text/plain": [
       "90.97259435803997"
      ]
     },
     "execution_count": 24,
     "metadata": {},
     "output_type": "execute_result"
    }
   ],
   "source": [
    "#O valor de copya é o ponto destacado em preto\n",
    "copya[1][10]"
   ]
  },
  {
   "cell_type": "code",
   "execution_count": 25,
   "metadata": {},
   "outputs": [],
   "source": [
    "\n",
    "nodeMatrix[8][10] = 0"
   ]
  },
  {
   "cell_type": "code",
   "execution_count": 12,
   "metadata": {},
   "outputs": [
    {
     "data": {
      "image/png": "[encoded data removed]",
      "text/plain": [
       "<Figure size 432x288 with 2 Axes>"
      ]
     },
     "metadata": {
      "needs_background": "light"
     },
     "output_type": "display_data"
    }
   ],
   "source": [
    "plt.imshow(copya,cmap=\"hot\",interpolation=\"nearest\",vmin=0, vmax=310)\n",
    "plt.axis(\"off\")\n",
    "plt.colorbar()\n",
    "plt.savefig(\"archive\", dpi = 72)\n",
    "plt.show()"
   ]
  },
  {
   "cell_type": "code",
   "execution_count": 26,
   "metadata": {},
   "outputs": [],
   "source": [
    "import imageio\n",
    "with imageio.get_writer('movie.gif', mode='I') as writer:\n",
    "    for i in range(0,10201,15):\n",
    "        image = imageio.imread(f\"./img/nodes{i}.png\")\n",
    "        if(image is not None):\n",
    "            writer.append_data(image)"
   ]
  },
  {
   "cell_type": "code",
   "execution_count": 27,
   "metadata": {},
   "outputs": [],
   "source": [
    "!rm ./img/nodes*.png"
   ]
  },
  {
   "cell_type": "code",
   "execution_count": null,
   "metadata": {},
   "outputs": [],
   "source": []
  }
 ],
 "metadata": {
  "kernelspec": {
   "display_name": "Python 3",
   "language": "python",
   "name": "python3"
  },
  "language_info": {
   "codemirror_mode": {
    "name": "ipython",
    "version": 3
   },
   "file_extension": ".py",
   "mimetype": "text/x-python",
   "name": "python",
   "nbconvert_exporter": "python",
   "pygments_lexer": "ipython3",
   "version": "3.7.3"
  }
 },
 "nbformat": 4,
 "nbformat_minor": 2
}
