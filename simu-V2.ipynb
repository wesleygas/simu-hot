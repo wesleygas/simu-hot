{
 "cells": [
  {
   "cell_type": "markdown",
   "metadata": {},
   "source": [
    "## Finita 2D"
   ]
  },
  {
   "cell_type": "code",
   "execution_count": 28,
   "metadata": {},
   "outputs": [],
   "source": [
    "import numpy as np\n",
    "import matplotlib.pyplot as plt\n",
    "import matplotlib.animation as animation"
   ]
  },
  {
   "cell_type": "code",
   "execution_count": 34,
   "metadata": {},
   "outputs": [],
   "source": [
    "deltaT = 1\n",
    "deltaXY = 1e-1\n",
    "X = np.arange(0,0.5+deltaXY,deltaXY)\n",
    "Y = np.arange(0,0.5+deltaXY,deltaXY)\n",
    "t = np.arange(0,10+deltaT,deltaT)\n",
    "\n",
    "nodeMatrix = np.zeros(shape =(len(X), len(Y)))\n",
    "for i in range(len(nodeMatrix[0])):\n",
    "        nodeMatrix[0][i] = 100\n",
    "alpha = 9.4967e-5\n",
    "tolerance = 1e-14\n"
   ]
  },
  {
   "cell_type": "markdown",
   "metadata": {},
   "source": [
    "Falta implementar a convergência"
   ]
  },
  {
   "cell_type": "code",
   "execution_count": 35,
   "metadata": {},
   "outputs": [],
   "source": [
    "def helpDiff(anterior, atual, proximo):\n",
    "    return (proximo - 2*(atual) + anterior)/(deltaXY**2);\n",
    "\n",
    "def calcDiff2D(nodes, nodes_t):\n",
    "    \n",
    "    nodes_t[0,:] = 100 \n",
    "    \n",
    "    for y in range(1,len(nodes)-1):\n",
    "        for x in range(1,len(nodes[0])-1):\n",
    "            nodes_t[y][x] = nodes[y][x] + deltaT*(alpha*(helpDiff(nodes[y][x-1], nodes[y][x], nodes[y][x+1]) \\\n",
    "            + helpDiff(nodes[y-1][x], nodes[y][x], nodes[y+1][x])))\n",
    "    \n",
    "   \n",
    "    return nodes_t\n",
    "\n",
    "def doSomething(nodes, i):\n",
    "     for i in range(len(i)):\n",
    "        nodes_t = np.zeros(shape=(len(nodes[0]), len(nodes)))\n",
    "        nodes_t = calcDiff2D(nodes, nodes_t)\n",
    "\n",
    "        delta = np.subtract(nodes_t, nodes)\n",
    "        \n",
    "        for i in range(len(nodes_t)):\n",
    "            for j in range(len(nodes_t[i])):\n",
    "                if(not(nodes_t[i][j] == 0 and nodes[i][j] == 0)):\n",
    "                    delta[i][j] = 2*(nodes_t[i][j]-nodes[i][j])/(np.abs(nodes_t[i][j]) + np.abs(nodes[i][j]))\n",
    "                if(np.abs(np.max(delta)) < tolerance):\n",
    "                    print(\"AEEEEE\")\n",
    "                    return nodes_t\n",
    "        nodes = [row[:] for row in x]"
   ]
  },
  {
   "cell_type": "code",
   "execution_count": 36,
   "metadata": {},
   "outputs": [
    {
     "ename": "TypeError",
     "evalue": "'int' object does not support item assignment",
     "output_type": "error",
     "traceback": [
      "\u001b[1;31m---------------------------------------------------------------------------\u001b[0m",
      "\u001b[1;31mTypeError\u001b[0m                                 Traceback (most recent call last)",
      "\u001b[1;32m<ipython-input-36-365b89e624ad>\u001b[0m in \u001b[0;36m<module>\u001b[1;34m\u001b[0m\n\u001b[0;32m      1\u001b[0m \u001b[1;32mwhile\u001b[0m\u001b[1;33m(\u001b[0m\u001b[1;36m1\u001b[0m\u001b[1;33m)\u001b[0m\u001b[1;33m:\u001b[0m\u001b[1;33m\u001b[0m\u001b[1;33m\u001b[0m\u001b[0m\n\u001b[1;32m----> 2\u001b[1;33m     \u001b[0mnodeMatrix\u001b[0m \u001b[1;33m=\u001b[0m \u001b[0mcalcDiff2D\u001b[0m\u001b[1;33m(\u001b[0m\u001b[0mnodeMatrix\u001b[0m\u001b[1;33m,\u001b[0m \u001b[0mint\u001b[0m\u001b[1;33m(\u001b[0m\u001b[1;36m1e4\u001b[0m\u001b[1;33m)\u001b[0m\u001b[1;33m)\u001b[0m\u001b[1;33m\u001b[0m\u001b[1;33m\u001b[0m\u001b[0m\n\u001b[0m\u001b[0;32m      3\u001b[0m     \u001b[0mprint\u001b[0m\u001b[1;33m(\u001b[0m\u001b[0mi\u001b[0m\u001b[1;33m)\u001b[0m\u001b[1;33m\u001b[0m\u001b[1;33m\u001b[0m\u001b[0m\n\u001b[0;32m      4\u001b[0m \u001b[1;33m\u001b[0m\u001b[0m\n\u001b[0;32m      5\u001b[0m \u001b[1;33m\u001b[0m\u001b[0m\n",
      "\u001b[1;32m<ipython-input-35-07e0431a0812>\u001b[0m in \u001b[0;36mcalcDiff2D\u001b[1;34m(nodes, nodes_t)\u001b[0m\n\u001b[0;32m      4\u001b[0m \u001b[1;32mdef\u001b[0m \u001b[0mcalcDiff2D\u001b[0m\u001b[1;33m(\u001b[0m\u001b[0mnodes\u001b[0m\u001b[1;33m,\u001b[0m \u001b[0mnodes_t\u001b[0m\u001b[1;33m)\u001b[0m\u001b[1;33m:\u001b[0m\u001b[1;33m\u001b[0m\u001b[1;33m\u001b[0m\u001b[0m\n\u001b[0;32m      5\u001b[0m \u001b[1;33m\u001b[0m\u001b[0m\n\u001b[1;32m----> 6\u001b[1;33m     \u001b[0mnodes_t\u001b[0m\u001b[1;33m[\u001b[0m\u001b[1;36m0\u001b[0m\u001b[1;33m,\u001b[0m\u001b[1;33m:\u001b[0m\u001b[1;33m]\u001b[0m \u001b[1;33m=\u001b[0m \u001b[1;36m100\u001b[0m\u001b[1;33m\u001b[0m\u001b[1;33m\u001b[0m\u001b[0m\n\u001b[0m\u001b[0;32m      7\u001b[0m \u001b[1;33m\u001b[0m\u001b[0m\n\u001b[0;32m      8\u001b[0m     \u001b[1;32mfor\u001b[0m \u001b[0my\u001b[0m \u001b[1;32min\u001b[0m \u001b[0mrange\u001b[0m\u001b[1;33m(\u001b[0m\u001b[1;36m1\u001b[0m\u001b[1;33m,\u001b[0m\u001b[0mlen\u001b[0m\u001b[1;33m(\u001b[0m\u001b[0mnodes\u001b[0m\u001b[1;33m)\u001b[0m\u001b[1;33m-\u001b[0m\u001b[1;36m1\u001b[0m\u001b[1;33m)\u001b[0m\u001b[1;33m:\u001b[0m\u001b[1;33m\u001b[0m\u001b[1;33m\u001b[0m\u001b[0m\n",
      "\u001b[1;31mTypeError\u001b[0m: 'int' object does not support item assignment"
     ]
    }
   ],
   "source": [
    "for i in t:\n",
    "    nodeMatrix = calcDiff2D(nodeMatrix)\n",
    "\n",
    "    \n",
    "\n",
    "plt.imshow(nodeMatrix,cmap=\"hot\",interpolation=\"nearest\", vmin=0, vmax=101)\n",
    "plt.axis(\"off\")\n",
    "plt.savefig(\"archive\", dpi = 72)\n",
    "plt.show()"
   ]
  },
  {
   "cell_type": "code",
   "execution_count": 37,
   "metadata": {},
   "outputs": [
    {
     "data": {
      "text/plain": [
       "<Figure size 432x288 with 0 Axes>"
      ]
     },
     "metadata": {},
     "output_type": "display_data"
    }
   ],
   "source": [
    "plt.savefig(\"archive\", dpi = 72)"
   ]
  },
  {
   "cell_type": "code",
   "execution_count": null,
   "metadata": {},
   "outputs": [],
   "source": [
    "nodeMatrix"
   ]
  },
  {
   "cell_type": "code",
   "execution_count": null,
   "metadata": {},
   "outputs": [],
   "source": [
    "for i in range(10-1):\n",
    "    print(i)"
   ]
  },
  {
   "cell_type": "code",
   "execution_count": 19,
   "metadata": {},
   "outputs": [
    {
     "name": "stdout",
     "output_type": "stream",
     "text": [
      "[ 0  1  2  3  4  5  6  7  8  9 10]\n"
     ]
    }
   ],
   "source": [
    "print(t)"
   ]
  },
  {
   "cell_type": "code",
   "execution_count": null,
   "metadata": {},
   "outputs": [],
   "source": []
  }
 ],
 "metadata": {
  "kernelspec": {
   "display_name": "Python 3",
   "language": "python",
   "name": "python3"
  },
  "language_info": {
   "codemirror_mode": {
    "name": "ipython",
    "version": 3
   },
   "file_extension": ".py",
   "mimetype": "text/x-python",
   "name": "python",
   "nbconvert_exporter": "python",
   "pygments_lexer": "ipython3",
   "version": "3.7.1"
  }
 },
 "nbformat": 4,
 "nbformat_minor": 2
}
