{
 "cells": [
  {
   "cell_type": "markdown",
   "metadata": {},
   "source": [
    "## Finita 2D"
   ]
  },
  {
   "cell_type": "code",
   "execution_count": 20,
   "metadata": {},
   "outputs": [],
   "source": [
    "import numpy as np\n",
    "import matplotlib.pyplot as plt\n",
    "import matplotlib.animation as animation"
   ]
  },
  {
   "cell_type": "code",
   "execution_count": 21,
   "metadata": {},
   "outputs": [],
   "source": [
    "deltaT = 0.8\n",
    "deltaXY = 2e-2\n",
    "X = np.arange(0,0.4+deltaXY,deltaXY)\n",
    "Y = np.arange(0,0.4+deltaXY,deltaXY)\n",
    "t = np.arange(0,10+deltaT,deltaT)\n",
    "\n",
    "nodeMatrix = np.zeros(shape =(len(X), len(Y)))\n",
    "nodeMatrix[:,0] = 100\n",
    "nodeMatrix[:,-1] = 100\n",
    "nodeMatrix[0,:] = 300\n",
    "nodeMatrix[-1,:] = 30\n",
    "k = 56\n",
    "ro = 7.85e3\n",
    "cp = 480\n",
    "alpha = k/(ro*cp) #k/rô*Cp\n",
    "tolerance = 1e-7\n",
    "F0 = alpha*(deltaT/(deltaXY**2))\n"
   ]
  },
  {
   "cell_type": "code",
   "execution_count": 22,
   "metadata": {},
   "outputs": [],
   "source": [
    "#Conta específica para o caso 2D\n",
    "def helpDiff(anterior, atual, proximo):\n",
    "    return (proximo - 2*(atual) + anterior)/(deltaXY**2);\n",
    "\n",
    "def helpDiff2(meio,cima, baixo, esquerda,direita, F0):\n",
    "    return F0*(cima+baixo+esquerda+direita) + (1-(4*F0))*meio\n",
    "\n",
    "#Aplica a conta específica na lista de nodes\n",
    "def calcDiff2D(nodes):\n",
    "    nodes_t = nodes.copy()\n",
    "    for y in range(1,len(nodes)-1):\n",
    "        for x in range(1,len(nodes[0])-1):\n",
    "            #nodes_t[y][x] = nodes[y][x] + deltaT*(alpha*(helpDiff(nodes[y][x-1], nodes[y][x], nodes[y][x+1]) \\\n",
    "            #+ helpDiff(nodes[y-1][x], nodes[y][x], nodes[y+1][x])))\n",
    "            nodes_t[y][x] = helpDiff2(nodes[y][x],nodes[y-1][x],nodes[y+1][x],nodes[y][x-1], nodes[y][x+1],F0)\n",
    "    \n",
    "   \n",
    "    return nodes_t\n",
    "\n",
    "#\n",
    "# Nodes: Lista de nós a ser calculada ; k: Numero máximo de iterações para resolução\n",
    "# \n",
    "#\n",
    "def doSomething(nodes_ref,k, tolerance):\n",
    "    nodes_t = nodes_ref.copy()\n",
    "    delta = np.zeros(shape =(len(nodes_ref[0]), len(nodes_ref)))\n",
    "    for l in range(k):\n",
    "        nodes = nodes_t.copy()\n",
    "        nodes_t = calcDiff2D(nodes_t)\n",
    "        \n",
    "        for i in range(1, len(nodes_t) -1):\n",
    "            for j in range(1, len(nodes_t[i]) -1):\n",
    "                if(not(nodes_t[i][j] == 0 and nodes[i][j] == 0)):\n",
    "                    delta[i][j] = 2*(nodes_t[i][j]-nodes[i][j])/(np.abs(nodes_t[i][j]) + np.abs(nodes[i][j]))\n",
    "\n",
    "                if(np.abs(np.max(delta)) < tolerance):\n",
    "                    print(f\"Tolerancia atingida na iteração {l}!\")\n",
    "                    return nodes_t\n",
    "        \n",
    "    print(f\"iterações insuficientes máximo delta: {np.abs(np.max(delta))}\")\n",
    "    return nodes_t\n"
   ]
  },
  {
   "cell_type": "code",
   "execution_count": 23,
   "metadata": {},
   "outputs": [
    {
     "name": "stdout",
     "output_type": "stream",
     "text": [
      "Tolerancia atingida na iteração 6985!\n"
     ]
    },
    {
     "data": {
      "image/png": "[encoded data removed]",
      "text/plain": [
       "<Figure size 432x288 with 1 Axes>"
      ]
     },
     "metadata": {
      "needs_background": "light"
     },
     "output_type": "display_data"
    },
    {
     "name": "stdout",
     "output_type": "stream",
     "text": [
      "Wall time: 32.5 s\n"
     ]
    }
   ],
   "source": [
    "%%time\n",
    "nodeMatrix = doSomething(nodeMatrix,10000,tolerance)\n",
    "\n",
    "\n",
    "plt.imshow(nodeMatrix,cmap=\"hot\",interpolation=\"nearest\",vmin=0, vmax=310)\n",
    "plt.axis(\"off\")\n",
    "plt.savefig(\"archive\", dpi = 72)\n",
    "plt.show()\n"
   ]
  },
  {
   "cell_type": "code",
   "execution_count": 5,
   "metadata": {},
   "outputs": [
    {
     "data": {
      "text/plain": [
       "<Figure size 432x288 with 0 Axes>"
      ]
     },
     "metadata": {},
     "output_type": "display_data"
    }
   ],
   "source": [
    "plt.savefig(\"archive\", dpi = 72)"
   ]
  },
  {
   "cell_type": "code",
   "execution_count": 30,
   "metadata": {},
   "outputs": [
    {
     "data": {
      "image/png": "[encoded data removed]",
      "text/plain": [
       "<Figure size 432x288 with 2 Axes>"
      ]
     },
     "metadata": {
      "needs_background": "light"
     },
     "output_type": "display_data"
    }
   ],
   "source": [
    "# nodeMatrix\n",
    "copya = nodeMatrix.copy()\n",
    "nodeMatrix[8][10] = 0\n",
    "plt.imshow(nodeMatrix,cmap=\"hot\",interpolation=\"nearest\",vmin=0, vmax=310)\n",
    "plt.axis(\"off\")\n",
    "plt.colorbar()\n",
    "plt.savefig(\"archive\", dpi = 72)\n",
    "plt.show()\n"
   ]
  },
  {
   "cell_type": "code",
   "execution_count": 29,
   "metadata": {},
   "outputs": [
    {
     "data": {
      "text/plain": [
       "156.64568676061577"
      ]
     },
     "execution_count": 29,
     "metadata": {},
     "output_type": "execute_result"
    }
   ],
   "source": [
    "#O valor de copya é o ponto destacado em preto\n",
    "copya[8][10]"
   ]
  },
  {
   "cell_type": "code",
   "execution_count": 18,
   "metadata": {},
   "outputs": [],
   "source": [
    "\n",
    "nodeMatrix[8][10] = 0"
   ]
  },
  {
   "cell_type": "code",
   "execution_count": 32,
   "metadata": {},
   "outputs": [
    {
     "data": {
      "image/png": "[encoded data removed]",
      "text/plain": [
       "<Figure size 432x288 with 2 Axes>"
      ]
     },
     "metadata": {
      "needs_background": "light"
     },
     "output_type": "display_data"
    }
   ],
   "source": [
    "plt.imshow(copya,cmap=\"hot\",interpolation=\"nearest\",vmin=0, vmax=310)\n",
    "plt.axis(\"off\")\n",
    "plt.colorbar()\n",
    "plt.savefig(\"archive\", dpi = 72)\n",
    "plt.show()"
   ]
  },
  {
   "cell_type": "code",
   "execution_count": null,
   "metadata": {},
   "outputs": [],
   "source": []
  }
 ],
 "metadata": {
  "kernelspec": {
   "display_name": "Python 3",
   "language": "python",
   "name": "python3"
  },
  "language_info": {
   "codemirror_mode": {
    "name": "ipython",
    "version": 3
   },
   "file_extension": ".py",
   "mimetype": "text/x-python",
   "name": "python",
   "nbconvert_exporter": "python",
   "pygments_lexer": "ipython3",
   "version": "3.7.1"
  }
 },
 "nbformat": 4,
 "nbformat_minor": 2
}
